{
 "cells": [
  {
   "cell_type": "code",
   "execution_count": 20,
   "metadata": {},
   "outputs": [],
   "source": [
    "import matplotlib.pyplot as plt\n",
    "import numpy as np"
   ]
  },
  {
   "cell_type": "code",
   "execution_count": 1,
   "metadata": {},
   "outputs": [
    {
     "name": "stderr",
     "output_type": "stream",
     "text": [
      "Using backend: pytorch\n"
     ]
    }
   ],
   "source": [
    "from data import fraud_dataset"
   ]
  },
  {
   "cell_type": "code",
   "execution_count": 4,
   "metadata": {},
   "outputs": [],
   "source": [
    "# Define some constants for the exploration\n",
    "\n",
    "DATASET_NAME = \"amazon\" # \"amazon\" or \"yelp\"\n",
    "TRAIN_SIZE = 0.4\n",
    "VAL_SIZE = 0.1\n",
    "RANDOM_SEED = 42\n",
    "FORCE_RELOAD = False"
   ]
  },
  {
   "cell_type": "code",
   "execution_count": 5,
   "metadata": {},
   "outputs": [
    {
     "name": "stdout",
     "output_type": "stream",
     "text": [
      "Done saving data into cached files.\n"
     ]
    }
   ],
   "source": [
    "fraud_data = fraud_dataset.FraudDataset(\n",
    "    DATASET_NAME, \n",
    "    train_size=TRAIN_SIZE, \n",
    "    val_size=VAL_SIZE, \n",
    "    random_seed=RANDOM_SEED, \n",
    "    force_reload=FORCE_RELOAD\n",
    ")\n",
    "graph = fraud_data[0]"
   ]
  },
  {
   "cell_type": "code",
   "execution_count": 18,
   "metadata": {},
   "outputs": [],
   "source": []
  },
  {
   "cell_type": "code",
   "execution_count": 23,
   "metadata": {},
   "outputs": [
    {
     "name": "stdout",
     "output_type": "stream",
     "text": [
      "Node types: ['user']\n",
      "Edge types: ['net_upu', 'net_usu', 'net_uvu']\n",
      "Number of user nodes: 11944\n",
      "Number of net_upu edges: 351216\n",
      "Number of net_usu edges: 7132958\n",
      "Number of net_uvu edges: 2073474\n",
      "net_upu edge info:\n",
      "Source nodes: [ 2696  2803  4850 ...  3153  4622 11942]\n",
      "Destination nodes: [    1     2     2 ... 11943 11943 11943]\n",
      "net_usu edge info:\n",
      "Source nodes: [   74   139   317 ... 11882 11891 11942]\n",
      "Destination nodes: [    0     0     0 ... 11943 11943 11943]\n",
      "net_uvu edge info:\n",
      "Source nodes: [ 2486  4857  5009 ... 11517 11941 11942]\n",
      "Destination nodes: [    0     0     0 ... 11943 11943 11943]\n"
     ]
    },
    {
     "data": {
      "image/png": "[encoded data removed]",
      "text/plain": [
       "<Figure size 432x288 with 1 Axes>"
      ]
     },
     "metadata": {
      "needs_background": "light"
     },
     "output_type": "display_data"
    },
    {
     "data": {
      "image/png": "[encoded data removed]",
      "text/plain": [
       "<Figure size 432x288 with 1 Axes>"
      ]
     },
     "metadata": {
      "needs_background": "light"
     },
     "output_type": "display_data"
    },
    {
     "data": {
      "image/png": "[encoded data removed]",
      "text/plain": [
       "<Figure size 432x288 with 1 Axes>"
      ]
     },
     "metadata": {
      "needs_background": "light"
     },
     "output_type": "display_data"
    }
   ],
   "source": [
    "# Print details about the heterogeneous graph\n",
    "print(\"Node types:\", graph.ntypes)\n",
    "print(\"Edge types:\", graph.etypes)\n",
    "\n",
    "# Number of nodes and edges per type\n",
    "for ntype in graph.ntypes:\n",
    "    print(f\"Number of {ntype} nodes:\", graph.num_nodes(ntype))\n",
    "\n",
    "for etype in graph.etypes:\n",
    "    print(f\"Number of {etype} edges:\", graph.num_edges(etype))\n",
    "\n",
    "# Examine connectivity in the heterogeneous graph\n",
    "for etype in graph.etypes:\n",
    "    print(f\"{etype} edge info:\")\n",
    "    src, dst = graph.edges(etype=etype)\n",
    "    print(f\"Source nodes: {src.numpy()}\")\n",
    "    print(f\"Destination nodes: {dst.numpy()}\")\n",
    "\n",
    "# Compute degree distribution for each edge type\n",
    "for etype in graph.etypes:\n",
    "    _, dst = graph.edges(etype=etype)\n",
    "    unique, counts = np.unique(dst.numpy(), return_counts=True)\n",
    "    \n",
    "    plt.figure()\n",
    "    plt.hist(counts, bins=np.arange(counts.min(), counts.max() + 1) - 0.5, alpha=0.7)\n",
    "    plt.title(f'Degree Distribution for {etype}')\n",
    "    plt.xlabel('Degree')\n",
    "    plt.ylabel('Frequency')\n",
    "    plt.grid(axis='y')\n",
    "    plt.show()"
   ]
  },
  {
   "cell_type": "code",
   "execution_count": 13,
   "metadata": {},
   "outputs": [
    {
     "data": {
      "text/plain": [
       "torch.Size([11944, 25])"
      ]
     },
     "execution_count": 13,
     "metadata": {},
     "output_type": "execute_result"
    }
   ],
   "source": [
    "\n",
    "g.ndata[\"feature\"].shape"
   ]
  },
  {
   "cell_type": "code",
   "execution_count": null,
   "metadata": {},
   "outputs": [],
   "source": []
  }
 ],
 "metadata": {
  "kernelspec": {
   "display_name": "dev_remote",
   "language": "python",
   "name": "python3"
  },
  "language_info": {
   "codemirror_mode": {
    "name": "ipython",
    "version": 3
   },
   "file_extension": ".py",
   "mimetype": "text/x-python",
   "name": "python",
   "nbconvert_exporter": "python",
   "pygments_lexer": "ipython3",
   "version": "3.7.11"
  }
 },
 "nbformat": 4,
 "nbformat_minor": 2
}
